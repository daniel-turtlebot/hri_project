{
 "cells": [
  {
   "cell_type": "code",
   "execution_count": 15,
   "metadata": {},
   "outputs": [],
   "source": [
    "from keras.models import Sequential,Model\n",
    "from keras.layers import Dense, Activation, Flatten, Input\n",
    "from keras.optimizers import Adam"
   ]
  },
  {
   "cell_type": "code",
   "execution_count": 27,
   "metadata": {},
   "outputs": [],
   "source": [
    "def build_model(state_size, num_actions):\n",
    "    input = Input(shape=(1,state_size))\n",
    "    x = Flatten()(input)\n",
    "    x = Dense(16, activation='relu')(x)\n",
    "    output = Dense(num_actions, activation='linear')(x)\n",
    "    model = Model(inputs=input, outputs=output)\n",
    "    return model"
   ]
  },
  {
   "cell_type": "code",
   "execution_count": 28,
   "metadata": {},
   "outputs": [],
   "source": [
    "from rl.agents.cem import CEMAgent\n",
    "from rl.memory import EpisodeParameterMemory"
   ]
  },
  {
   "cell_type": "code",
   "execution_count": 33,
   "metadata": {},
   "outputs": [],
   "source": [
    "def build_agent(states, actions):\n",
    "    nb_actions = actions.size\n",
    "    state_dim = states.dim\n",
    "    memory = EpisodeParameterMemory(limit=1000, window_length=1)\n",
    "\n",
    "    cem = CEMAgent(model=build_model(state_dim,nb_actions), nb_actions=nb_actions, memory=memory,\n",
    "                   batch_size=50, nb_steps_warmup=2000, train_interval=50, elite_frac=0.05)\n",
    "    return cem, memory"
   ]
  },
  {
   "cell_type": "code",
   "execution_count": null,
   "metadata": {},
   "outputs": [],
   "source": []
  }
 ],
 "metadata": {
  "kernelspec": {
   "display_name": "Python 3",
   "language": "python",
   "name": "python3"
  },
  "language_info": {
   "codemirror_mode": {
    "name": "ipython",
    "version": 3
   },
   "file_extension": ".py",
   "mimetype": "text/x-python",
   "name": "python",
   "nbconvert_exporter": "python",
   "pygments_lexer": "ipython3",
   "version": "3.7.7"
  }
 },
 "nbformat": 4,
 "nbformat_minor": 4
}
